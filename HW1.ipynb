{
 "cells": [
  {
   "cell_type": "code",
   "execution_count": 54,
   "metadata": {},
   "outputs": [
    {
     "name": "stdout",
     "output_type": "stream",
     "text": [
      "Самый умный супергерой: Thanos\n"
     ]
    }
   ],
   "source": [
    "import requests\n",
    "import json\n",
    "\n",
    "dict_hero = {}\n",
    "heroes_list = ['Hulk', 'Captain America', 'Thanos']\n",
    "res = requests.get('https://cdn.jsdelivr.net/gh/akabab/superhero-api@0.3.0/api/all.json')\n",
    "res_json = json.loads(res.text)\n",
    "for i in res_json:\n",
    "    for hero in heroes_list:\n",
    "        if hero == i[\"name\"]:\n",
    "            dict_hero[hero] = i[\"powerstats\"].get(\"intelligence\")\n",
    "sorted_dict_hero = sorted(dict_hero, key=dict_hero.get)[-1]\n",
    "print(f'Самый умный супергерой: {sorted_dict_hero}')    \n"
   ]
  }
 ],
 "metadata": {
  "kernelspec": {
   "display_name": "Python 3",
   "language": "python",
   "name": "python3"
  },
  "language_info": {
   "codemirror_mode": {
    "name": "ipython",
    "version": 3
   },
   "file_extension": ".py",
   "mimetype": "text/x-python",
   "name": "python",
   "nbconvert_exporter": "python",
   "pygments_lexer": "ipython3",
   "version": "3.11.4"
  },
  "orig_nbformat": 4
 },
 "nbformat": 4,
 "nbformat_minor": 2
}
